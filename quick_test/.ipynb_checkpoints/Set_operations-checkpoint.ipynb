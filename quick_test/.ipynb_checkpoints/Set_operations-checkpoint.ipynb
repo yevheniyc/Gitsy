{
 "cells": [
  {
   "cell_type": "code",
   "execution_count": 2,
   "metadata": {
    "collapsed": false
   },
   "outputs": [],
   "source": [
    "from itertools import combinations\n",
    "from collections import defaultdict"
   ]
  },
  {
   "cell_type": "code",
   "execution_count": null,
   "metadata": {
    "collapsed": true
   },
   "outputs": [],
   "source": [
    "ns = {\"a\": {1,2,5,10,12}, \"b\": {1,2,6,9,12,15}, \"c\": {1,2,7,8,15}}\n",
    "ns_2 = {6700: {691691, 691588, \n",
    "               691503, 691376, \n",
    "               691704, 691705,}, \n",
    "        6701: {691691, 691588,\n",
    "               691504, 691377,\n",
    "               691553, 691563,},\n",
    "        6702: {691691, 691588,\n",
    "               691501, 691371,\n",
    "               691553, 691563,}\n",
    "        }"
   ]
  },
  {
   "cell_type": "code",
   "execution_count": null,
   "metadata": {
    "collapsed": true
   },
   "outputs": [],
   "source": [
    "def venn_count(named_sets):\n",
    "    names = set(named_sets)\n",
    "    for i in range(1, len(named_sets)+1):\n",
    "        for to_intersect in combinations(sorted(named_sets), i):\n",
    "            others = names.difference(to_intersect)\n",
    "            intersected = set.intersection(*(named_sets[k] for k in to_intersect))\n",
    "            unioned = set.union(*(named_sets[k] for k in others)) if others else set()\n",
    "            yield to_intersect, others, len(intersected - unioned)\n",
    "\n",
    "for intersected, unioned, count in venn_count(ns_2):\n",
    "    print 'len({}{}) = {}'.format(' & '.join(sorted(intersected)),\n",
    "                                  ' - ' + ' - '.join(sorted(unioned)) if unioned else '',\n",
    "                                  count)"
   ]
  },
  {
   "cell_type": "code",
   "execution_count": null,
   "metadata": {
    "collapsed": true
   },
   "outputs": [],
   "source": [
    "keywords = [''.join(i) for i in itertools.product('ABCDE', repeat = 3)]\n",
    "print keywords"
   ]
  },
  {
   "cell_type": "code",
   "execution_count": null,
   "metadata": {
    "collapsed": true
   },
   "outputs": [],
   "source": []
  }
 ],
 "metadata": {
  "kernelspec": {
   "display_name": "Python 2",
   "language": "python",
   "name": "python2"
  },
  "language_info": {
   "codemirror_mode": {
    "name": "ipython",
    "version": 2
   },
   "file_extension": ".py",
   "mimetype": "text/x-python",
   "name": "python",
   "nbconvert_exporter": "python",
   "pygments_lexer": "ipython2",
   "version": "2.7.9"
  }
 },
 "nbformat": 4,
 "nbformat_minor": 0
}
